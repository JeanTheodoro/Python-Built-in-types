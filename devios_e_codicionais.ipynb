{
 "metadata": {
  "language_info": {
   "codemirror_mode": {
    "name": "ipython",
    "version": 3
   },
   "file_extension": ".py",
   "mimetype": "text/x-python",
   "name": "python",
   "nbconvert_exporter": "python",
   "pygments_lexer": "ipython3",
   "version": "3.8.5-final"
  },
  "orig_nbformat": 2,
  "kernelspec": {
   "name": "python3",
   "display_name": "Python 3"
  }
 },
 "nbformat": 4,
 "nbformat_minor": 2,
 "cells": [
  {
   "cell_type": "code",
   "execution_count": 5,
   "metadata": {},
   "outputs": [
    {
     "output_type": "stream",
     "name": "stdout",
     "text": [
      "Maior de idade\n"
     ]
    }
   ],
   "source": [
    "# Secção sobre Codicionais e devisos\n",
    "# if , else e elif sempre colocar dois (:) no final do comando\n",
    "# exemplo\n",
    " \n",
    "age = 20\n",
    "if age > 17:\n",
    "    print('Maior de idade')\n",
    "else:\n",
    "    print('Menor de idade')"
   ]
  },
  {
   "cell_type": "code",
   "execution_count": 9,
   "metadata": {},
   "outputs": [
    {
     "output_type": "stream",
     "name": "stdout",
     "text": [
      "Idoso\n"
     ]
    }
   ],
   "source": [
    "# Desvio de condição Elif\n",
    "age = 61\n",
    "if age > 17 and age < 60:\n",
    "    print('Maior de idade - Adulto')\n",
    "elif age > 59:\n",
    "    print('Idoso')\n",
    "else:\n",
    "    print('Menor de idade')"
   ]
  },
  {
   "cell_type": "code",
   "execution_count": null,
   "metadata": {},
   "outputs": [],
   "source": []
  }
 ]
}