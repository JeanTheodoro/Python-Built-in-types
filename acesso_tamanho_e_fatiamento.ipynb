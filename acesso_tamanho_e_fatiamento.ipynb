{
 "metadata": {
  "language_info": {
   "codemirror_mode": {
    "name": "ipython",
    "version": 3
   },
   "file_extension": ".py",
   "mimetype": "text/x-python",
   "name": "python",
   "nbconvert_exporter": "python",
   "pygments_lexer": "ipython3",
   "version": "3.8.5-final"
  },
  "orig_nbformat": 2,
  "kernelspec": {
   "name": "python3",
   "display_name": "Python 3"
  }
 },
 "nbformat": 4,
 "nbformat_minor": 2,
 "cells": [
  {
   "cell_type": "code",
   "execution_count": 5,
   "metadata": {},
   "outputs": [
    {
     "output_type": "stream",
     "name": "stdout",
     "text": [
      "J\n4\né\ns\n"
     ]
    }
   ],
   "source": [
    "# Acesso, Tamanho e Fatiamento\n",
    "name = \"José\"\n",
    "\n",
    "# Acessar o primeiro elemento\n",
    "print(name[0])\n",
    "\n",
    "# Tamanho da String\n",
    "print(len(name))\n",
    "\n",
    "# Retornar o último elemento\n",
    "print(name[-1])\n",
    "\n",
    "# Retonar o penultimo caracter\n",
    "print(name[-2])"
   ]
  },
  {
   "cell_type": "code",
   "execution_count": 7,
   "metadata": {},
   "outputs": [
    {
     "output_type": "stream",
     "name": "stdout",
     "text": [
      "Jos\nJos\n"
     ]
    }
   ],
   "source": [
    "# Retornar apenas os três primeiros elementos de uma lista\n",
    "print(name[0:3])\n",
    "\n",
    "#  OU\n",
    "print(name[:3])"
   ]
  },
  {
   "cell_type": "code",
   "execution_count": 8,
   "metadata": {},
   "outputs": [
    {
     "output_type": "stream",
     "name": "stdout",
     "text": [
      "os\n"
     ]
    }
   ],
   "source": [
    "# Retornar o segundo e o primeiro elemento\n",
    "print(name[1:3])"
   ]
  },
  {
   "cell_type": "code",
   "execution_count": 10,
   "metadata": {},
   "outputs": [
    {
     "output_type": "stream",
     "name": "stdout",
     "text": [
      "osé\nosé\n"
     ]
    }
   ],
   "source": [
    "# Retornar os três ultimos elemntos\n",
    "print(name[-3:])\n",
    "\n",
    "# OU\n",
    "\n",
    "print(name[-3:len(name)])"
   ]
  },
  {
   "cell_type": "code",
   "execution_count": 11,
   "metadata": {},
   "outputs": [
    {
     "output_type": "stream",
     "name": "stdout",
     "text": [
      "ésoJ\n"
     ]
    }
   ],
   "source": [
    "# Inveter a String\n",
    "print(name[::-1])"
   ]
  },
  {
   "cell_type": "code",
   "execution_count": null,
   "metadata": {},
   "outputs": [],
   "source": []
  }
 ]
}