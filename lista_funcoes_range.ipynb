{
 "metadata": {
  "language_info": {
   "codemirror_mode": {
    "name": "ipython",
    "version": 3
   },
   "file_extension": ".py",
   "mimetype": "text/x-python",
   "name": "python",
   "nbconvert_exporter": "python",
   "pygments_lexer": "ipython3",
   "version": "3.8.5-final"
  },
  "orig_nbformat": 2,
  "kernelspec": {
   "name": "python3",
   "display_name": "Python 3"
  }
 },
 "nbformat": 4,
 "nbformat_minor": 2,
 "cells": [
  {
   "cell_type": "code",
   "execution_count": 10,
   "metadata": {},
   "outputs": [
    {
     "output_type": "stream",
     "name": "stdout",
     "text": [
      "<class 'list'>\n[0, 1, 2, 3, 4, 5, 6, 7, 8, 9]\n[1, 2, 3, 4, 5, 6, 7, 8, 9]\n"
     ]
    }
   ],
   "source": [
    "# Secão que Aborda Listas e Funções\n",
    "\n",
    "# Declarar uma Lista\n",
    "a = [1,2,3]\n",
    "\n",
    "# Saber o tipo da list\n",
    "\n",
    "print(type(a))\n",
    "\n",
    "# Declaração da função de uma Lista\n",
    "lista = list(range(10))\n",
    "print(lista)\n",
    "\n",
    "# Declaração da função de uma Lista com indice de inicio e fim\n",
    "lista_value = list(range(1, 10))\n",
    "print(lista_value) "
   ]
  },
  {
   "cell_type": "code",
   "execution_count": 11,
   "metadata": {},
   "outputs": [
    {
     "output_type": "stream",
     "name": "stdout",
     "text": [
      "[1, 3, 5, 7, 9]\n"
     ]
    }
   ],
   "source": [
    "# Declaração da função de uma Lista com indice de inicio e fim com o saldo de 2 em 2\n",
    "lista_value = list(range(1, 10, 2)) \n",
    "print(lista_value) "
   ]
  },
  {
   "cell_type": "code",
   "execution_count": 20,
   "metadata": {},
   "outputs": [
    {
     "output_type": "stream",
     "name": "stdout",
     "text": [
      "[1, 3, 5, 7, 2, 2]\n"
     ]
    }
   ],
   "source": [
    "# Inserir um valor na lista existente, o valor inserido pelo método append(), vai para o fim da lista\n",
    "lista_value.append(2)\n",
    "print(lista_value)"
   ]
  },
  {
   "cell_type": "code",
   "execution_count": 26,
   "metadata": {},
   "outputs": [
    {
     "output_type": "stream",
     "name": "stdout",
     "text": [
      "[3, 5, 7, 12]\n"
     ]
    }
   ],
   "source": [
    "# Remover  um valor na lista existente, o valor inserido pelo método append(), vai para o fim da lista\n",
    "lista_value.pop()\n",
    "print(lista_value)"
   ]
  },
  {
   "cell_type": "code",
   "execution_count": 23,
   "metadata": {},
   "outputs": [
    {
     "output_type": "stream",
     "name": "stdout",
     "text": [
      "[1, 3, 5, 7]\n"
     ]
    }
   ],
   "source": [
    "# Ordenar os valores de uma lsita de forma crescente\n",
    "lista_value.sort()\n",
    "print(lista_value)"
   ]
  },
  {
   "cell_type": "code",
   "execution_count": 27,
   "metadata": {},
   "outputs": [
    {
     "output_type": "stream",
     "name": "stdout",
     "text": [
      "[3, 5, 7, 12, 12, 14]\n"
     ]
    }
   ],
   "source": [
    "# Inserir mais de um valore na lista, utlizando o método extend()  \n",
    "lista_value.extend([12,14])\n",
    "print(lista_value)"
   ]
  },
  {
   "cell_type": "code",
   "execution_count": 28,
   "metadata": {},
   "outputs": [
    {
     "output_type": "stream",
     "name": "stdout",
     "text": [
      "[3, 5, 7, 12, 12, 14, 16, 18]\n"
     ]
    }
   ],
   "source": [
    "# Criar uma outra lista apartir de uma lista já existente\n",
    "lista_value_two = lista_value + [16, 18]\n",
    "print(lista_value_two)"
   ]
  },
  {
   "cell_type": "code",
   "execution_count": 29,
   "metadata": {},
   "outputs": [
    {
     "output_type": "stream",
     "name": "stdout",
     "text": [
      "[20, 22, 20, 22, 20, 22]\n"
     ]
    }
   ],
   "source": [
    "# Criar uma lista com elememtos concatenados, passando a quantidade de vezes que será concatenado\n",
    "lista_value_three = [20, 22] * 3\n",
    "print(lista_value_three)"
   ]
  },
  {
   "cell_type": "code",
   "execution_count": 31,
   "metadata": {},
   "outputs": [
    {
     "output_type": "stream",
     "name": "stdout",
     "text": [
      "['Python', 'Language']\n"
     ]
    }
   ],
   "source": [
    "# Separar uma String em uma lista\n",
    "text = 'Python Language'.split(\" \")\n",
    "print(text)"
   ]
  },
  {
   "cell_type": "code",
   "execution_count": 32,
   "metadata": {},
   "outputs": [
    {
     "output_type": "stream",
     "name": "stdout",
     "text": [
      "Python Language\n"
     ]
    }
   ],
   "source": [
    "# Concatenar uma String com os dados da lista\n",
    "print(' '.join(text))"
   ]
  },
  {
   "cell_type": "code",
   "execution_count": 34,
   "metadata": {},
   "outputs": [
    {
     "output_type": "stream",
     "name": "stdout",
     "text": [
      "[5, 2.5, 'python', True]\n"
     ]
    }
   ],
   "source": [
    "# Lista Heterôgenia, com tipos de dados diferente\n",
    "\n",
    "list_heterogenia = [5, 2.5, 'python', True]\n",
    "print(list_heterogenia)"
   ]
  },
  {
   "cell_type": "code",
   "execution_count": null,
   "metadata": {},
   "outputs": [],
   "source": []
  }
 ]
}