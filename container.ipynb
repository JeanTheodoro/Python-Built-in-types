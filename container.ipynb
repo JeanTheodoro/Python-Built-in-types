{
 "metadata": {
  "language_info": {
   "codemirror_mode": {
    "name": "ipython",
    "version": 3
   },
   "file_extension": ".py",
   "mimetype": "text/x-python",
   "name": "python",
   "nbconvert_exporter": "python",
   "pygments_lexer": "ipython3",
   "version": "3.8.5-final"
  },
  "orig_nbformat": 2,
  "kernelspec": {
   "name": "python3",
   "display_name": "Python 3"
  }
 },
 "nbformat": 4,
 "nbformat_minor": 2,
 "cells": [
  {
   "cell_type": "code",
   "execution_count": 11,
   "metadata": {},
   "outputs": [
    {
     "output_type": "stream",
     "name": "stdout",
     "text": [
      "João <class 'str'>\n"
     ]
    }
   ],
   "source": [
    "# Conatainer: sequência de objetos\n",
    "# Declaração da String\n",
    "\n",
    "name = 'João'\n",
    "print(name, type(name))"
   ]
  },
  {
   "cell_type": "code",
   "execution_count": 12,
   "metadata": {},
   "outputs": [
    {
     "output_type": "stream",
     "name": "stdout",
     "text": [
      "joão \nsilva \n"
     ]
    }
   ],
   "source": [
    "# Pular linha na String\n",
    "name = 'joão \\nsilva '\n",
    "print(name)"
   ]
  },
  {
   "cell_type": "code",
   "execution_count": 14,
   "metadata": {},
   "outputs": [
    {
     "output_type": "stream",
     "name": "stdout",
     "text": [
      "João Silva\n"
     ]
    }
   ],
   "source": [
    "# Concatenação de String\n",
    "print('João' + ' Silva')"
   ]
  },
  {
   "cell_type": "code",
   "execution_count": 15,
   "metadata": {},
   "outputs": [
    {
     "output_type": "stream",
     "name": "stdout",
     "text": [
      "aaaa\n"
     ]
    }
   ],
   "source": [
    "# Multiplicação de String\n",
    "print('a' * 4)"
   ]
  },
  {
   "cell_type": "code",
   "execution_count": 18,
   "metadata": {},
   "outputs": [
    {
     "output_type": "stream",
     "name": "stdout",
     "text": [
      "joão silva\n"
     ]
    }
   ],
   "source": [
    "# Conveter uma String para miniúsculo\n",
    "name = \"JOÃO SILVA\"\n",
    "print(name.lower())"
   ]
  },
  {
   "cell_type": "code",
   "execution_count": 19,
   "metadata": {},
   "outputs": [
    {
     "output_type": "stream",
     "name": "stdout",
     "text": [
      "PYTHON DO ZERO AO AVANÇADO\n"
     ]
    }
   ],
   "source": [
    "title = \"python do zero ao avançado\"\n",
    "print(title.upper())"
   ]
  },
  {
   "cell_type": "code",
   "execution_count": 21,
   "metadata": {},
   "outputs": [
    {
     "output_type": "stream",
     "name": "stdout",
     "text": [
      "Melhor linguagem para iniciantes\n"
     ]
    }
   ],
   "source": [
    "# Capitalizer \n",
    "subtitle = \"melhor linguagem para iniciantes\"\n",
    "print(subtitle.capitalize())"
   ]
  },
  {
   "cell_type": "code",
   "execution_count": null,
   "metadata": {},
   "outputs": [],
   "source": []
  }
 ]
}