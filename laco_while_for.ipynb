{
 "metadata": {
  "language_info": {
   "codemirror_mode": {
    "name": "ipython",
    "version": 3
   },
   "file_extension": ".py",
   "mimetype": "text/x-python",
   "name": "python",
   "nbconvert_exporter": "python",
   "pygments_lexer": "ipython3",
   "version": "3.8.5-final"
  },
  "orig_nbformat": 2,
  "kernelspec": {
   "name": "python3",
   "display_name": "Python 3"
  }
 },
 "nbformat": 4,
 "nbformat_minor": 2,
 "cells": [
  {
   "cell_type": "code",
   "execution_count": 10,
   "metadata": {},
   "outputs": [
    {
     "output_type": "stream",
     "name": "stdout",
     "text": [
      "J\no\nã\no\n"
     ]
    }
   ],
   "source": [
    "# Laço de Repetição While\n",
    "\n",
    "# exemplo\n",
    "name = 'João'\n",
    "i = 0\n",
    "\n",
    "while i < len(name):\n",
    "    print(name[i])\n",
    "    i += 1"
   ]
  },
  {
   "cell_type": "code",
   "execution_count": 12,
   "metadata": {},
   "outputs": [
    {
     "output_type": "stream",
     "name": "stdout",
     "text": [
      "J\no\nã\no\n"
     ]
    }
   ],
   "source": [
    "# Laçõ de repetição for\n",
    "# for simples\n",
    "\n",
    "for j in name:\n",
    "    print(j)"
   ]
  },
  {
   "cell_type": "code",
   "execution_count": 13,
   "metadata": {},
   "outputs": [
    {
     "output_type": "stream",
     "name": "stdout",
     "text": [
      "0 J\n1 o\n2 ã\n3 o\n"
     ]
    }
   ],
   "source": [
    "# Laço de reprtição que acessa o indínce e o elemento\n",
    "for j in range(len(name)):\n",
    "    print(j, name[j])"
   ]
  },
  {
   "cell_type": "code",
   "execution_count": 16,
   "metadata": {},
   "outputs": [
    {
     "output_type": "stream",
     "name": "stdout",
     "text": [
      "0 J\n1 o\n2 ã\n3 o\n0 J\n1 o\n2 ã\n3 o\n"
     ]
    }
   ],
   "source": [
    "# Laço de reprtição que acessa o indínce e o elemento, de forma simples\n",
    "for i, v in enumerate(name):\n",
    "    print(i, v)\n",
    "\n",
    "# ou \n",
    "\n",
    "for i, v in enumerate(name):\n",
    "    print(i, name[i])"
   ]
  },
  {
   "cell_type": "code",
   "execution_count": null,
   "metadata": {},
   "outputs": [],
   "source": []
  }
 ]
}